{
 "cells": [
  {
   "cell_type": "code",
   "execution_count": null,
   "id": "817f2112-78da-45b7-a8e1-69eb3c9f1fb6",
   "metadata": {},
   "outputs": [],
   "source": [
    "# bibliotecas\n",
    "import pandas as pd\n",
    "import matplotlib.pyplot as plt"
   ]
  },
  {
   "cell_type": "code",
   "execution_count": null,
   "id": "a9aab365",
   "metadata": {},
   "outputs": [],
   "source": [
    "# 1. leitura de dados\n",
    "dataframe = pd.read_csv(\"https://raw.githubusercontent.com/puc-tech/challenge/refs/heads/main/student_preferences_extended.csv\")                                                                                                       "
   ]
  },
  {
   "cell_type": "code",
   "execution_count": null,
   "id": "f8fe009e-9772-4692-accf-66306d168aa3",
   "metadata": {},
   "outputs": [],
   "source": [
    "# 2. tratamento dos dados \n",
    "dataframe = pd.read_csv(\"https://raw.githubusercontent.com/puc-tech/challenge/refs/heads/main/student_preferences_extended.csv\")                                                                                                       \n",
    "dataframe = dataframe[[\"linguagem_preferida\", \"horario_estudo\", \"formato_conteudo_principal\", \"formato_conteudo_secundario\"]] # considerei analisar somente os 4 dados \n",
    "                                                                                                                              # que considerei mais uteis\n",
    "# preenche valores ausentes com \"Não informado\" para evitar problemas nas contagens\n",
    "dataframe = dataframe.fillna({\n",
    "    \"linguagem_preferida\": \"Não informado\",\n",
    "    \"horario_estudo\": \"Não informado\",\n",
    "    \"formato_conteudo_principal\": \"Não informado\",\n",
    "    \"formato_conteudo_secundario\": \"Não informado\" })"
   ]
  },
  {
   "cell_type": "code",
   "execution_count": null,
   "id": "3ecf0cb4",
   "metadata": {},
   "outputs": [],
   "source": [
    "# 3.1 analise respostas das linguagens \n",
    "totalRespostasLinguagem = dataframe[\"linguagem_preferida\"].value_counts()\n",
    "percentualRespostasLinguagem = (totalRespostasLinguagem / totalRespostasLinguagem.sum()) * 100\n",
    "\n",
    "print(\"Total de respostas por linguagem:\")\n",
    "for linguagem, total in totalRespostasLinguagem.items():\n",
    "    print(f\"{linguagem:<20} {total} respostas ({percentualRespostasLinguagem[linguagem]:.1f}%)\")"
   ]
  },
  {
   "cell_type": "code",
   "execution_count": null,
   "id": "0503f5f1",
   "metadata": {},
   "outputs": [],
   "source": [
    "# 3.2 analise respostas dos horarios de estudo \n",
    "percentualHorariosEstudo = dataframe[\"horario_estudo\"].value_counts(normalize=True) * 100\n",
    "\n",
    "print(\"Percentual de preferência por horário de estudo:\")\n",
    "for horario, percentual in percentualHorariosEstudo.items():\n",
    "    print(f\"{horario:<20} {percentual:.1f}%\")"
   ]
  },
  {
   "cell_type": "code",
   "execution_count": null,
   "id": "a79bdf1b",
   "metadata": {},
   "outputs": [],
   "source": [
    "# 3.3 analise respostas dos formatos de conteudo\n",
    "# junta os formatos principal e secundário\n",
    "ambosFormatos = pd.concat([\n",
    "    dataframe[\"formato_conteudo_principal\"],\n",
    "    dataframe[\"formato_conteudo_secundario\"]\n",
    "])\n",
    "\n",
    "# calcula o percentual de cada formato\n",
    "percentualFormatoCombinado = ambosFormatos.value_counts(normalize=True) * 100\n",
    "\n",
    "# exibe os resultados\n",
    "print(\"Formato de conteúdo mais popular (combinado):\")\n",
    "for formato, percentual in percentualFormatoCombinado.items():\n",
    "    print(f\"{formato:<25} {percentual:.1f}%\")"
   ]
  },
  {
   "cell_type": "code",
   "execution_count": null,
   "id": "7abf19b0-d678-4613-90b1-6ebc1efddc51",
   "metadata": {},
   "outputs": [],
   "source": [
    "# 4.1 visualizaçao em grafico de barras linguagens preferidas\n",
    "totalRespostasLinguagem = dataframe[\"linguagem_preferida\"].value_counts()\n",
    "percentualRespostasLinguagem = (totalRespostasLinguagem / totalRespostasLinguagem.sum()) * 100\n",
    "\n",
    "plt.figure(figsize=(10, 6))\n",
    "plt.bar(totalRespostasLinguagem.index, totalRespostasLinguagem.values, color='purple')\n",
    "plt.xlabel(\"Linguagem Preferida\")\n",
    "plt.ylabel(\"Total de Respostas\")\n",
    "plt.title(\"Total de Respostas por Linguagem\")\n",
    "plt.xticks(rotation=45)\n",
    "plt.tight_layout()\n",
    "\n",
    "for i, valor in enumerate(totalRespostasLinguagem.values):\n",
    "    plt.text(i, valor + 0.5, str(valor), ha='center', va='bottom')\n",
    "    \n",
    "plt.show()"
   ]
  },
  {
   "cell_type": "code",
   "execution_count": null,
   "id": "e0eb741e-50d6-46ab-b773-17654d2cd3b1",
   "metadata": {},
   "outputs": [],
   "source": [
    "# 4.2 visualizaçao em grafico de barras horarios de estudos preferidos\n",
    "percentualHorariosEstudo = dataframe[\"horario_estudo\"].value_counts(normalize = True) * 100\n",
    "\n",
    "plt.figure(figsize=(8, 6))\n",
    "plt.bar(percentualHorariosEstudo.index, percentualHorariosEstudo.values, color='purple')\n",
    "plt.xlabel(\"Horário de Estudo Preferido\")\n",
    "plt.ylabel(\"Percentual (%)\")\n",
    "plt.title(\"Preferência por Horário de Estudo\")\n",
    "plt.xticks(rotation=45)\n",
    "plt.tight_layout()\n",
    "\n",
    "for i, v in enumerate(percentualHorariosEstudo.values):\n",
    "    plt.text(i, v + 0.5, f\"{v:.1f}%\", ha='center', va='bottom')\n",
    "    \n",
    "plt.show()\n"
   ]
  },
  {
   "cell_type": "code",
   "execution_count": null,
   "id": "298ea4d3-868d-47f2-a4c6-e2b1cbd3f305",
   "metadata": {},
   "outputs": [],
   "source": [
    "# 4.3 visualizaçao em grafico de pizzaformato de conteudo mais popular\n",
    "# (escolhi o grafico de pizzar pois achei que ficaria mais intuitivo para visualizar a diferença entre os formatos de conteudo)\n",
    "# (aqui eu considerei tanto o principal quanto o secundario visto que estamos analisando a popularidade)\n",
    "ambosFormatos = pd.concat([\n",
    "    dataframe[\"formato_conteudo_principal\"],\n",
    "    dataframe[\"formato_conteudo_secundario\"]\n",
    "])\n",
    "\n",
    "percentualFormato = ambosFormatos.value_counts(normalize = True) * 100\n",
    "\n",
    "    \n",
    "cores = ['#8e44ad', \"#8464b8\", \"#8fa3ce\", \"#b4d1de\", '#e8daef']\n",
    "\n",
    "plt.figure(figsize=(8, 8))\n",
    "plt.pie(\n",
    "    percentualFormato.values,\n",
    "    labels=percentualFormato.index,\n",
    "    autopct='%1.1f%%',\n",
    "    startangle=90,\n",
    "    counterclock=False,\n",
    "    colors=cores[:len(percentualFormato)]\n",
    ")\n",
    "plt.title(\"Preferência por Formato de Conteúdo\")\n",
    "plt.tight_layout()\n",
    "plt.show()"
   ]
  }
 ],
 "metadata": {
  "kernelspec": {
   "display_name": "Python 3",
   "language": "python",
   "name": "python3"
  },
  "language_info": {
   "codemirror_mode": {
    "name": "ipython",
    "version": 3
   },
   "file_extension": ".py",
   "mimetype": "text/x-python",
   "name": "python",
   "nbconvert_exporter": "python",
   "pygments_lexer": "ipython3",
   "version": "3.13.3"
  }
 },
 "nbformat": 4,
 "nbformat_minor": 5
}
